{
 "cells": [
  {
   "cell_type": "code",
   "execution_count": 1,
   "metadata": {},
   "outputs": [],
   "source": [
    "# Step 1: Define a function to create the Urdu dictionary\n",
    "def create_urdu_dictionary(file_path):\n",
    "    urdu_dict = {}\n",
    "    \n",
    "    # Open the file in read mode\n",
    "    with open(file_path, 'r', encoding='utf-8') as file:\n",
    "        ##print(file)\n",
    "        # Iterate through each line in the file\n",
    "        for line in file:\n",
    "            # Split the line into words based on spaces\n",
    "            words = line.strip().split()\n",
    "            for word in words:\n",
    "                # Check if the word is already in the dictionary\n",
    "                if word in urdu_dict:\n",
    "                    # If it is, increment the count\n",
    "                    urdu_dict[word] += 1\n",
    "                else:\n",
    "                    # If it's not, add it to the dictionary with a count of 1\n",
    "                    urdu_dict[word] = 1\n",
    "    \n",
    "    return urdu_dict"
   ]
  },
  {
   "cell_type": "code",
   "execution_count": null,
   "metadata": {},
   "outputs": [],
   "source": [
    "# Step 2: Call the function to create the Urdu dictionary\n",
    "file_path = 'word-segmented.txt'\n",
    "with open(file_path, 'r', encoding='utf-8') as file:\n",
    "    f=file.read()\n",
    "    f= f.split()\n",
    "    print(f)\n",
    "urdu_dict = create_urdu_dictionary(file_path)\n",
    "##print(urdu_dict)"
   ]
  },
  {
   "cell_type": "code",
   "execution_count": null,
   "metadata": {},
   "outputs": [],
   "source": [
    "# Step 2: Reading the Urdu sentence from a text file\n",
    "with open('word_test.txt', 'r', encoding='utf-8') as sentence_file:\n",
    "    urdu_sentence_without_spaces = sentence_file.read()\n",
    "    "
   ]
  }
 ],
 "metadata": {
  "kernelspec": {
   "display_name": "Python 3",
   "language": "python",
   "name": "python3"
  },
  "language_info": {
   "codemirror_mode": {
    "name": "ipython",
    "version": 3
   },
   "file_extension": ".py",
   "mimetype": "text/x-python",
   "name": "python",
   "nbconvert_exporter": "python",
   "pygments_lexer": "ipython3",
   "version": "3.7.4"
  }
 },
 "nbformat": 4,
 "nbformat_minor": 2
}
